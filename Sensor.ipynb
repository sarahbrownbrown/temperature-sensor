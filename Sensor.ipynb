{
 "cells": [
  {
   "cell_type": "code",
   "execution_count": null,
   "id": "5d15271e",
   "metadata": {},
   "outputs": [],
   "source": [
    "import Adafruit_DHT\n",
    "from ISStreamer.Streamer import Streamer\n",
    "import time<br>\n",
    "SENSOR_LOCATION_NAME = \"Main Room\"\n",
    "BUCKET_NAME = \":partly_sunny: Room Temperatures\"\n",
    "BUCKET_KEY = \"rt0129\"\n",
    "ACCESS_KEY = \"initial state access key\" # this isn't actually my access key\n",
    "MINUTES_BETWEEN_READS = 10METRIC_UNITS = False\n",
    "# ---------------------------------\n",
    "streamer = Streamer(bucket_name=BUCKET_NAME, bucket_key=BUCKET_KEY, access_key=ACCESS_KEY)\n",
    "while True:\n",
    "\thumidity, temp_c = Adafruit_DHT.read_retry(Adafruit_DHT.DHT22, 4)\n",
    "\tif METRIC_UNITS:\n",
    "\t\tstreamer.log(SENSOR_LOCATION_NAME + \" Temperature(C)\", temp_c)\n",
    "\telse:\n",
    "\t\ttemp_f = format(temp_c * 9.0 / 5.0 + 32.0, \".2f\")\n",
    "\t\tstreamer.log(SENSOR_LOCATION_NAME + \" Temperature(F)\", temp_f)\thumidity = format(humidity,\".2f\")\n",
    "\tstreamer.log(SENSOR_LOCATION_NAME + \" Humidity(%)\", humidity)\n",
    "\tstreamer.flush()\n",
    "\ttime.sleep(60*MINUTES_BETWEEN_READS)"
   ]
  }
 ],
 "metadata": {
  "kernelspec": {
   "display_name": "Python 3 (ipykernel)",
   "language": "python",
   "name": "python3"
  },
  "language_info": {
   "codemirror_mode": {
    "name": "ipython",
    "version": 3
   },
   "file_extension": ".py",
   "mimetype": "text/x-python",
   "name": "python",
   "nbconvert_exporter": "python",
   "pygments_lexer": "ipython3",
   "version": "3.9.7"
  }
 },
 "nbformat": 4,
 "nbformat_minor": 5
}
